{
  "nbformat": 4,
  "nbformat_minor": 0,
  "metadata": {
    "colab": {
      "provenance": [],
      "authorship_tag": "ABX9TyMGlhicSdn4q+fLnFHLlrPq",
      "include_colab_link": true
    },
    "kernelspec": {
      "name": "python3",
      "display_name": "Python 3"
    },
    "language_info": {
      "name": "python"
    }
  },
  "cells": [
    {
      "cell_type": "markdown",
      "metadata": {
        "id": "view-in-github",
        "colab_type": "text"
      },
      "source": [
        "<a href=\"https://colab.research.google.com/github/RishiBose04/DL-NN/blob/main/WSRNN.ipynb\" target=\"_parent\"><img src=\"https://colab.research.google.com/assets/colab-badge.svg\" alt=\"Open In Colab\"/></a>"
      ]
    },
    {
      "cell_type": "code",
      "execution_count": 34,
      "metadata": {
        "id": "-E8k3K1FFk0F"
      },
      "outputs": [],
      "source": [
        "import pandas as pd\n",
        "import numpy as np\n",
        "import matplotlib.pyplot as plt\n",
        "from keras.models import Sequential\n",
        "from keras.layers import Dense, SimpleRNN"
      ]
    },
    {
      "cell_type": "code",
      "source": [
        "N = 10000\n",
        "Tp = 8000\n",
        "t= np.arange(0,N)\n",
        "x=np.sin(0.02*t)*2*np.random.rand(N)\n",
        "df=pd.DataFrame(x)\n",
        "df.head()\n"
      ],
      "metadata": {
        "colab": {
          "base_uri": "https://localhost:8080/",
          "height": 206
        },
        "id": "uoMoml_aeT6X",
        "outputId": "1f889678-4211-4362-95d0-94734f443e9f"
      },
      "execution_count": 35,
      "outputs": [
        {
          "output_type": "execute_result",
          "data": {
            "text/plain": [
              "          0\n",
              "0  0.000000\n",
              "1  0.039997\n",
              "2  0.045480\n",
              "3  0.002967\n",
              "4  0.047633"
            ],
            "text/html": [
              "\n",
              "  <div id=\"df-38943143-2b1f-470c-88cb-6fc286cf160a\" class=\"colab-df-container\">\n",
              "    <div>\n",
              "<style scoped>\n",
              "    .dataframe tbody tr th:only-of-type {\n",
              "        vertical-align: middle;\n",
              "    }\n",
              "\n",
              "    .dataframe tbody tr th {\n",
              "        vertical-align: top;\n",
              "    }\n",
              "\n",
              "    .dataframe thead th {\n",
              "        text-align: right;\n",
              "    }\n",
              "</style>\n",
              "<table border=\"1\" class=\"dataframe\">\n",
              "  <thead>\n",
              "    <tr style=\"text-align: right;\">\n",
              "      <th></th>\n",
              "      <th>0</th>\n",
              "    </tr>\n",
              "  </thead>\n",
              "  <tbody>\n",
              "    <tr>\n",
              "      <th>0</th>\n",
              "      <td>0.000000</td>\n",
              "    </tr>\n",
              "    <tr>\n",
              "      <th>1</th>\n",
              "      <td>0.039997</td>\n",
              "    </tr>\n",
              "    <tr>\n",
              "      <th>2</th>\n",
              "      <td>0.045480</td>\n",
              "    </tr>\n",
              "    <tr>\n",
              "      <th>3</th>\n",
              "      <td>0.002967</td>\n",
              "    </tr>\n",
              "    <tr>\n",
              "      <th>4</th>\n",
              "      <td>0.047633</td>\n",
              "    </tr>\n",
              "  </tbody>\n",
              "</table>\n",
              "</div>\n",
              "    <div class=\"colab-df-buttons\">\n",
              "\n",
              "  <div class=\"colab-df-container\">\n",
              "    <button class=\"colab-df-convert\" onclick=\"convertToInteractive('df-38943143-2b1f-470c-88cb-6fc286cf160a')\"\n",
              "            title=\"Convert this dataframe to an interactive table.\"\n",
              "            style=\"display:none;\">\n",
              "\n",
              "  <svg xmlns=\"http://www.w3.org/2000/svg\" height=\"24px\" viewBox=\"0 -960 960 960\">\n",
              "    <path d=\"M120-120v-720h720v720H120Zm60-500h600v-160H180v160Zm220 220h160v-160H400v160Zm0 220h160v-160H400v160ZM180-400h160v-160H180v160Zm440 0h160v-160H620v160ZM180-180h160v-160H180v160Zm440 0h160v-160H620v160Z\"/>\n",
              "  </svg>\n",
              "    </button>\n",
              "\n",
              "  <style>\n",
              "    .colab-df-container {\n",
              "      display:flex;\n",
              "      gap: 12px;\n",
              "    }\n",
              "\n",
              "    .colab-df-convert {\n",
              "      background-color: #E8F0FE;\n",
              "      border: none;\n",
              "      border-radius: 50%;\n",
              "      cursor: pointer;\n",
              "      display: none;\n",
              "      fill: #1967D2;\n",
              "      height: 32px;\n",
              "      padding: 0 0 0 0;\n",
              "      width: 32px;\n",
              "    }\n",
              "\n",
              "    .colab-df-convert:hover {\n",
              "      background-color: #E2EBFA;\n",
              "      box-shadow: 0px 1px 2px rgba(60, 64, 67, 0.3), 0px 1px 3px 1px rgba(60, 64, 67, 0.15);\n",
              "      fill: #174EA6;\n",
              "    }\n",
              "\n",
              "    .colab-df-buttons div {\n",
              "      margin-bottom: 4px;\n",
              "    }\n",
              "\n",
              "    [theme=dark] .colab-df-convert {\n",
              "      background-color: #3B4455;\n",
              "      fill: #D2E3FC;\n",
              "    }\n",
              "\n",
              "    [theme=dark] .colab-df-convert:hover {\n",
              "      background-color: #434B5C;\n",
              "      box-shadow: 0px 1px 3px 1px rgba(0, 0, 0, 0.15);\n",
              "      filter: drop-shadow(0px 1px 2px rgba(0, 0, 0, 0.3));\n",
              "      fill: #FFFFFF;\n",
              "    }\n",
              "  </style>\n",
              "\n",
              "    <script>\n",
              "      const buttonEl =\n",
              "        document.querySelector('#df-38943143-2b1f-470c-88cb-6fc286cf160a button.colab-df-convert');\n",
              "      buttonEl.style.display =\n",
              "        google.colab.kernel.accessAllowed ? 'block' : 'none';\n",
              "\n",
              "      async function convertToInteractive(key) {\n",
              "        const element = document.querySelector('#df-38943143-2b1f-470c-88cb-6fc286cf160a');\n",
              "        const dataTable =\n",
              "          await google.colab.kernel.invokeFunction('convertToInteractive',\n",
              "                                                    [key], {});\n",
              "        if (!dataTable) return;\n",
              "\n",
              "        const docLinkHtml = 'Like what you see? Visit the ' +\n",
              "          '<a target=\"_blank\" href=https://colab.research.google.com/notebooks/data_table.ipynb>data table notebook</a>'\n",
              "          + ' to learn more about interactive tables.';\n",
              "        element.innerHTML = '';\n",
              "        dataTable['output_type'] = 'display_data';\n",
              "        await google.colab.output.renderOutput(dataTable, element);\n",
              "        const docLink = document.createElement('div');\n",
              "        docLink.innerHTML = docLinkHtml;\n",
              "        element.appendChild(docLink);\n",
              "      }\n",
              "    </script>\n",
              "  </div>\n",
              "\n",
              "\n",
              "<div id=\"df-0981d1fd-6319-4b82-b985-3d0e0bc2fe45\">\n",
              "  <button class=\"colab-df-quickchart\" onclick=\"quickchart('df-0981d1fd-6319-4b82-b985-3d0e0bc2fe45')\"\n",
              "            title=\"Suggest charts\"\n",
              "            style=\"display:none;\">\n",
              "\n",
              "<svg xmlns=\"http://www.w3.org/2000/svg\" height=\"24px\"viewBox=\"0 0 24 24\"\n",
              "     width=\"24px\">\n",
              "    <g>\n",
              "        <path d=\"M19 3H5c-1.1 0-2 .9-2 2v14c0 1.1.9 2 2 2h14c1.1 0 2-.9 2-2V5c0-1.1-.9-2-2-2zM9 17H7v-7h2v7zm4 0h-2V7h2v10zm4 0h-2v-4h2v4z\"/>\n",
              "    </g>\n",
              "</svg>\n",
              "  </button>\n",
              "\n",
              "<style>\n",
              "  .colab-df-quickchart {\n",
              "      --bg-color: #E8F0FE;\n",
              "      --fill-color: #1967D2;\n",
              "      --hover-bg-color: #E2EBFA;\n",
              "      --hover-fill-color: #174EA6;\n",
              "      --disabled-fill-color: #AAA;\n",
              "      --disabled-bg-color: #DDD;\n",
              "  }\n",
              "\n",
              "  [theme=dark] .colab-df-quickchart {\n",
              "      --bg-color: #3B4455;\n",
              "      --fill-color: #D2E3FC;\n",
              "      --hover-bg-color: #434B5C;\n",
              "      --hover-fill-color: #FFFFFF;\n",
              "      --disabled-bg-color: #3B4455;\n",
              "      --disabled-fill-color: #666;\n",
              "  }\n",
              "\n",
              "  .colab-df-quickchart {\n",
              "    background-color: var(--bg-color);\n",
              "    border: none;\n",
              "    border-radius: 50%;\n",
              "    cursor: pointer;\n",
              "    display: none;\n",
              "    fill: var(--fill-color);\n",
              "    height: 32px;\n",
              "    padding: 0;\n",
              "    width: 32px;\n",
              "  }\n",
              "\n",
              "  .colab-df-quickchart:hover {\n",
              "    background-color: var(--hover-bg-color);\n",
              "    box-shadow: 0 1px 2px rgba(60, 64, 67, 0.3), 0 1px 3px 1px rgba(60, 64, 67, 0.15);\n",
              "    fill: var(--button-hover-fill-color);\n",
              "  }\n",
              "\n",
              "  .colab-df-quickchart-complete:disabled,\n",
              "  .colab-df-quickchart-complete:disabled:hover {\n",
              "    background-color: var(--disabled-bg-color);\n",
              "    fill: var(--disabled-fill-color);\n",
              "    box-shadow: none;\n",
              "  }\n",
              "\n",
              "  .colab-df-spinner {\n",
              "    border: 2px solid var(--fill-color);\n",
              "    border-color: transparent;\n",
              "    border-bottom-color: var(--fill-color);\n",
              "    animation:\n",
              "      spin 1s steps(1) infinite;\n",
              "  }\n",
              "\n",
              "  @keyframes spin {\n",
              "    0% {\n",
              "      border-color: transparent;\n",
              "      border-bottom-color: var(--fill-color);\n",
              "      border-left-color: var(--fill-color);\n",
              "    }\n",
              "    20% {\n",
              "      border-color: transparent;\n",
              "      border-left-color: var(--fill-color);\n",
              "      border-top-color: var(--fill-color);\n",
              "    }\n",
              "    30% {\n",
              "      border-color: transparent;\n",
              "      border-left-color: var(--fill-color);\n",
              "      border-top-color: var(--fill-color);\n",
              "      border-right-color: var(--fill-color);\n",
              "    }\n",
              "    40% {\n",
              "      border-color: transparent;\n",
              "      border-right-color: var(--fill-color);\n",
              "      border-top-color: var(--fill-color);\n",
              "    }\n",
              "    60% {\n",
              "      border-color: transparent;\n",
              "      border-right-color: var(--fill-color);\n",
              "    }\n",
              "    80% {\n",
              "      border-color: transparent;\n",
              "      border-right-color: var(--fill-color);\n",
              "      border-bottom-color: var(--fill-color);\n",
              "    }\n",
              "    90% {\n",
              "      border-color: transparent;\n",
              "      border-bottom-color: var(--fill-color);\n",
              "    }\n",
              "  }\n",
              "</style>\n",
              "\n",
              "  <script>\n",
              "    async function quickchart(key) {\n",
              "      const quickchartButtonEl =\n",
              "        document.querySelector('#' + key + ' button');\n",
              "      quickchartButtonEl.disabled = true;  // To prevent multiple clicks.\n",
              "      quickchartButtonEl.classList.add('colab-df-spinner');\n",
              "      try {\n",
              "        const charts = await google.colab.kernel.invokeFunction(\n",
              "            'suggestCharts', [key], {});\n",
              "      } catch (error) {\n",
              "        console.error('Error during call to suggestCharts:', error);\n",
              "      }\n",
              "      quickchartButtonEl.classList.remove('colab-df-spinner');\n",
              "      quickchartButtonEl.classList.add('colab-df-quickchart-complete');\n",
              "    }\n",
              "    (() => {\n",
              "      let quickchartButtonEl =\n",
              "        document.querySelector('#df-0981d1fd-6319-4b82-b985-3d0e0bc2fe45 button');\n",
              "      quickchartButtonEl.style.display =\n",
              "        google.colab.kernel.accessAllowed ? 'block' : 'none';\n",
              "    })();\n",
              "  </script>\n",
              "</div>\n",
              "\n",
              "    </div>\n",
              "  </div>\n"
            ]
          },
          "metadata": {},
          "execution_count": 35
        }
      ]
    },
    {
      "cell_type": "code",
      "source": [
        "plt.plot(df)\n",
        "plt.show\n"
      ],
      "metadata": {
        "colab": {
          "base_uri": "https://localhost:8080/",
          "height": 447
        },
        "id": "NWT3DKGFfbfe",
        "outputId": "dd5653d8-31d9-4e9b-80de-46f39c500131"
      },
      "execution_count": 36,
      "outputs": [
        {
          "output_type": "execute_result",
          "data": {
            "text/plain": [
              "<function matplotlib.pyplot.show(close=None, block=None)>"
            ]
          },
          "metadata": {},
          "execution_count": 36
        },
        {
          "output_type": "display_data",
          "data": {
            "text/plain": [
              "<Figure size 640x480 with 1 Axes>"
            ],
            "image/png": "[encoded data removed]"
          },
          "metadata": {}
        }
      ]
    },
    {
      "cell_type": "code",
      "source": [
        "values=df.values\n",
        "train,test=values[0:Tp,], values[Tp:N,:]"
      ],
      "metadata": {
        "id": "I9_m2RGaf62u"
      },
      "execution_count": 37,
      "outputs": []
    },
    {
      "cell_type": "code",
      "source": [
        "step=4\n",
        "test=np.append(test,np.repeat(test[-1,],step))\n",
        "train=np.append(train,np.repeat(test[-1,],step))"
      ],
      "metadata": {
        "id": "Gqp0wvi0g_bD"
      },
      "execution_count": 38,
      "outputs": []
    },
    {
      "cell_type": "code",
      "source": [
        "def converTOmatrix(data,step):\n",
        "  x,y=[],[]\n",
        "  for i in range(len(data)-step):\n",
        "    d=i+step\n",
        "    x.append(data[i:d,])\n",
        "    y.append(data[d,])\n",
        "  return np.array(x), np.array(y)\n"
      ],
      "metadata": {
        "id": "7ZBoGEDhhWLf"
      },
      "execution_count": 39,
      "outputs": []
    },
    {
      "cell_type": "code",
      "source": [
        "trainx,trainy=converTOmatrix(train,step)\n",
        "testx,testy=converTOmatrix(test,step)"
      ],
      "metadata": {
        "id": "wS4TsED4jFVW"
      },
      "execution_count": 40,
      "outputs": []
    },
    {
      "cell_type": "code",
      "source": [
        "trainx=np.reshape(trainx, (trainx.shape[0], 1,trainx.shape[1]))\n",
        "testx =np.reshape(testx, (testx.shape[0], 1,testx.shape[1]))\n",
        "trainx.shape\n",
        "testx.shape"
      ],
      "metadata": {
        "colab": {
          "base_uri": "https://localhost:8080/"
        },
        "id": "YnMyypotjoQW",
        "outputId": "4766d821-edb6-4678-dd2a-f126339efe0e"
      },
      "execution_count": 41,
      "outputs": [
        {
          "output_type": "execute_result",
          "data": {
            "text/plain": [
              "(2000, 1, 4)"
            ]
          },
          "metadata": {},
          "execution_count": 41
        }
      ]
    },
    {
      "cell_type": "code",
      "source": [
        "# prompt: simple rnn model\n",
        "\n",
        "model=Sequential()\n",
        "model.add(SimpleRNN(units=32,input_shape=(1,step),activation=\"relu\"))\n",
        "model.add(Dense(0,activation=\"relu\"))\n",
        "model.add(Dense(1))\n",
        "model.compile(loss='mean_squared_error', optimizer='rmsprop')\n",
        "model.summary()\n",
        "\n",
        "\n"
      ],
      "metadata": {
        "colab": {
          "base_uri": "https://localhost:8080/"
        },
        "id": "rZqsxoG4m7o4",
        "outputId": "75bdf768-cb09-4ba3-afc7-64798f9d2d9f"
      },
      "execution_count": 42,
      "outputs": [
        {
          "output_type": "stream",
          "name": "stdout",
          "text": [
            "Model: \"sequential_5\"\n",
            "_________________________________________________________________\n",
            " Layer (type)                Output Shape              Param #   \n",
            "=================================================================\n",
            " simple_rnn_5 (SimpleRNN)    (None, 32)                1184      \n",
            "                                                                 \n",
            " dense_9 (Dense)             (None, 0)                 0         \n",
            "                                                                 \n",
            " dense_10 (Dense)            (None, 1)                 1         \n",
            "                                                                 \n",
            "=================================================================\n",
            "Total params: 1185 (4.63 KB)\n",
            "Trainable params: 1185 (4.63 KB)\n",
            "Non-trainable params: 0 (0.00 Byte)\n",
            "_________________________________________________________________\n"
          ]
        }
      ]
    },
    {
      "cell_type": "code",
      "source": [
        "# prompt: fit model and predict in trian and test\n",
        "\n",
        "model.fit(trainx,trainy,epochs=100,batch_size=16,verbose=2)\n",
        "trainPredict=model.predict(trainx)\n",
        "testPredict=model.predict(testx)\n",
        "predict=np.concatenate((trainPredict,testPredict),axis=0)\n",
        "\n"
      ],
      "metadata": {
        "colab": {
          "base_uri": "https://localhost:8080/"
        },
        "id": "kfrg9o_WqLi6",
        "outputId": "24dd544d-6799-478c-bae9-b78ce04d5d64"
      },
      "execution_count": null,
      "outputs": [
        {
          "output_type": "stream",
          "name": "stdout",
          "text": [
            "Epoch 1/100\n",
            "500/500 - 1s - loss: 0.6747 - 1s/epoch - 2ms/step\n",
            "Epoch 2/100\n",
            "500/500 - 1s - loss: 0.6747 - 534ms/epoch - 1ms/step\n",
            "Epoch 3/100\n",
            "500/500 - 1s - loss: 0.6747 - 567ms/epoch - 1ms/step\n",
            "Epoch 4/100\n",
            "500/500 - 1s - loss: 0.6747 - 786ms/epoch - 2ms/step\n",
            "Epoch 5/100\n",
            "500/500 - 1s - loss: 0.6747 - 527ms/epoch - 1ms/step\n",
            "Epoch 6/100\n",
            "500/500 - 1s - loss: 0.6747 - 528ms/epoch - 1ms/step\n",
            "Epoch 7/100\n",
            "500/500 - 1s - loss: 0.6747 - 534ms/epoch - 1ms/step\n",
            "Epoch 8/100\n",
            "500/500 - 1s - loss: 0.6747 - 527ms/epoch - 1ms/step\n",
            "Epoch 9/100\n",
            "500/500 - 1s - loss: 0.6747 - 539ms/epoch - 1ms/step\n",
            "Epoch 10/100\n",
            "500/500 - 1s - loss: 0.6747 - 553ms/epoch - 1ms/step\n",
            "Epoch 11/100\n",
            "500/500 - 1s - loss: 0.6747 - 534ms/epoch - 1ms/step\n",
            "Epoch 12/100\n",
            "500/500 - 1s - loss: 0.6747 - 560ms/epoch - 1ms/step\n",
            "Epoch 13/100\n",
            "500/500 - 1s - loss: 0.6747 - 555ms/epoch - 1ms/step\n",
            "Epoch 14/100\n",
            "500/500 - 1s - loss: 0.6747 - 558ms/epoch - 1ms/step\n",
            "Epoch 15/100\n",
            "500/500 - 1s - loss: 0.6747 - 546ms/epoch - 1ms/step\n",
            "Epoch 16/100\n",
            "500/500 - 1s - loss: 0.6747 - 724ms/epoch - 1ms/step\n",
            "Epoch 17/100\n",
            "500/500 - 1s - loss: 0.6747 - 631ms/epoch - 1ms/step\n",
            "Epoch 18/100\n",
            "500/500 - 1s - loss: 0.6747 - 541ms/epoch - 1ms/step\n",
            "Epoch 19/100\n",
            "500/500 - 1s - loss: 0.6747 - 540ms/epoch - 1ms/step\n",
            "Epoch 20/100\n",
            "500/500 - 1s - loss: 0.6747 - 543ms/epoch - 1ms/step\n",
            "Epoch 21/100\n",
            "500/500 - 1s - loss: 0.6747 - 538ms/epoch - 1ms/step\n",
            "Epoch 22/100\n",
            "500/500 - 1s - loss: 0.6747 - 516ms/epoch - 1ms/step\n",
            "Epoch 23/100\n",
            "500/500 - 1s - loss: 0.6747 - 550ms/epoch - 1ms/step\n",
            "Epoch 24/100\n",
            "500/500 - 1s - loss: 0.6747 - 525ms/epoch - 1ms/step\n",
            "Epoch 25/100\n",
            "500/500 - 1s - loss: 0.6747 - 544ms/epoch - 1ms/step\n",
            "Epoch 26/100\n",
            "500/500 - 1s - loss: 0.6747 - 543ms/epoch - 1ms/step\n",
            "Epoch 27/100\n",
            "500/500 - 1s - loss: 0.6747 - 524ms/epoch - 1ms/step\n",
            "Epoch 28/100\n",
            "500/500 - 1s - loss: 0.6747 - 541ms/epoch - 1ms/step\n",
            "Epoch 29/100\n",
            "500/500 - 1s - loss: 0.6747 - 526ms/epoch - 1ms/step\n",
            "Epoch 30/100\n",
            "500/500 - 1s - loss: 0.6747 - 541ms/epoch - 1ms/step\n",
            "Epoch 31/100\n",
            "500/500 - 1s - loss: 0.6747 - 537ms/epoch - 1ms/step\n",
            "Epoch 32/100\n",
            "500/500 - 1s - loss: 0.6747 - 530ms/epoch - 1ms/step\n",
            "Epoch 33/100\n",
            "500/500 - 1s - loss: 0.6747 - 539ms/epoch - 1ms/step\n",
            "Epoch 34/100\n",
            "500/500 - 1s - loss: 0.6747 - 543ms/epoch - 1ms/step\n",
            "Epoch 35/100\n",
            "500/500 - 1s - loss: 0.6747 - 537ms/epoch - 1ms/step\n",
            "Epoch 36/100\n",
            "500/500 - 1s - loss: 0.6747 - 728ms/epoch - 1ms/step\n",
            "Epoch 37/100\n",
            "500/500 - 1s - loss: 0.6747 - 648ms/epoch - 1ms/step\n",
            "Epoch 38/100\n",
            "500/500 - 1s - loss: 0.6747 - 522ms/epoch - 1ms/step\n",
            "Epoch 39/100\n",
            "500/500 - 1s - loss: 0.6747 - 550ms/epoch - 1ms/step\n",
            "Epoch 40/100\n",
            "500/500 - 1s - loss: 0.6747 - 535ms/epoch - 1ms/step\n",
            "Epoch 41/100\n",
            "500/500 - 1s - loss: 0.6747 - 517ms/epoch - 1ms/step\n",
            "Epoch 42/100\n",
            "500/500 - 1s - loss: 0.6747 - 533ms/epoch - 1ms/step\n",
            "Epoch 43/100\n",
            "500/500 - 1s - loss: 0.6747 - 552ms/epoch - 1ms/step\n",
            "Epoch 44/100\n",
            "500/500 - 1s - loss: 0.6747 - 507ms/epoch - 1ms/step\n",
            "Epoch 45/100\n",
            "500/500 - 1s - loss: 0.6747 - 529ms/epoch - 1ms/step\n",
            "Epoch 46/100\n",
            "500/500 - 1s - loss: 0.6747 - 546ms/epoch - 1ms/step\n",
            "Epoch 47/100\n",
            "500/500 - 1s - loss: 0.6747 - 556ms/epoch - 1ms/step\n",
            "Epoch 48/100\n",
            "500/500 - 1s - loss: 0.6747 - 521ms/epoch - 1ms/step\n",
            "Epoch 49/100\n",
            "500/500 - 1s - loss: 0.6747 - 561ms/epoch - 1ms/step\n",
            "Epoch 50/100\n",
            "500/500 - 1s - loss: 0.6747 - 572ms/epoch - 1ms/step\n"
          ]
        }
      ]
    },
    {
      "cell_type": "code",
      "source": [
        "# prompt: check loss\n",
        "\n",
        "trainscore=model.evaluate(trainx,trainy,verbose=0)\n",
        "print(trainscore)\n"
      ],
      "metadata": {
        "colab": {
          "base_uri": "https://localhost:8080/"
        },
        "id": "UxVx5MUtq7Ui",
        "outputId": "0474f67c-0243-4e0a-865d-48a2f56215a8"
      },
      "execution_count": 33,
      "outputs": [
        {
          "output_type": "stream",
          "name": "stdout",
          "text": [
            "0.6778523325920105\n"
          ]
        }
      ]
    }
  ]
}