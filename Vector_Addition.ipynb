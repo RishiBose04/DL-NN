{
  "nbformat": 4,
  "nbformat_minor": 0,
  "metadata": {
    "colab": {
      "provenance": [],
      "authorship_tag": "ABX9TyOTLKJu5fzSlC9ag4fRZ01L",
      "include_colab_link": true
    },
    "kernelspec": {
      "name": "python3",
      "display_name": "Python 3"
    },
    "language_info": {
      "name": "python"
    }
  },
  "cells": [
    {
      "cell_type": "markdown",
      "metadata": {
        "id": "view-in-github",
        "colab_type": "text"
      },
      "source": [
        "<a href=\"https://colab.research.google.com/github/RishiBose04/DL-NN/blob/main/Vector_Addition.ipynb\" target=\"_parent\"><img src=\"https://colab.research.google.com/assets/colab-badge.svg\" alt=\"Open In Colab\"/></a>"
      ]
    },
    {
      "cell_type": "code",
      "execution_count": 2,
      "metadata": {
        "colab": {
          "base_uri": "https://localhost:8080/"
        },
        "id": "EmvE53nYxRZV",
        "outputId": "9100a0ca-1dec-4bdb-cdd9-3e3561a8001c"
      },
      "outputs": [
        {
          "output_type": "execute_result",
          "data": {
            "text/plain": [
              "0"
            ]
          },
          "metadata": {},
          "execution_count": 2
        }
      ],
      "source": [
        "# importing packages\n",
        "import tensorflow as tf\n",
        "# creating a scalar\n",
        "scalar = tf. constant(7)\n",
        "scalar\n",
        "scalar.ndim\n"
      ]
    },
    {
      "cell_type": "code",
      "source": [
        "# create a vector\n",
        "vector = tf.constant([10, 10])\n",
        "# checking the dimensions of vector\n",
        "vector.ndim\n",
        "# creating a matrix\n",
        "matrix = tf.constant([[1, 2],[3, 4]])\n",
        "print(matrix)\n",
        "print(\"the number of dimensions of a matrix is:\" +str(matrix.ndim))\n"
      ],
      "metadata": {
        "colab": {
          "base_uri": "https://localhost:8080/"
        },
        "id": "nomkBArRzx5F",
        "outputId": "bca4bfda-1da3-4313-8345-1fa8ea16bedf"
      },
      "execution_count": 4,
      "outputs": [
        {
          "output_type": "stream",
          "name": "stdout",
          "text": [
            "tf.Tensor(\n",
            "[[1 2]\n",
            " [3 4]], shape=(2, 2), dtype=int32)\n",
            "the number of dimensions of a matrix is:2\n"
          ]
        }
      ]
    },
    {
      "cell_type": "code",
      "source": [
        "# creating two tensors\n",
        "matrix = tf.constant([[1, 2], [3, 4]])\n",
        "matrix1 = tf.constant([[2, 4], [6, 8]])\n",
        "# addition of two matrices\n",
        "print(matrix + matrix1)\n",
        "# subtraction of two matrices\n",
        "print(matrix1 - matrix)\n",
        "# multiplication of two matrices\n",
        "print(matrix1 * matrix)\n",
        "# division of two matrices\n",
        "print(matrix1 / matrix)\n",
        "# creating a matrix\n",
        "matrix = tf.constant([[1, 2], (3, 4)])\n",
        "print(matrix )"
      ],
      "metadata": {
        "colab": {
          "base_uri": "https://localhost:8080/"
        },
        "id": "M1wd9Ve00zON",
        "outputId": "67cfb111-f3fe-4750-ca83-fffe7640b08d"
      },
      "execution_count": 5,
      "outputs": [
        {
          "output_type": "stream",
          "name": "stdout",
          "text": [
            "tf.Tensor(\n",
            "[[ 3  6]\n",
            " [ 9 12]], shape=(2, 2), dtype=int32)\n",
            "tf.Tensor(\n",
            "[[1 2]\n",
            " [3 4]], shape=(2, 2), dtype=int32)\n",
            "tf.Tensor(\n",
            "[[ 2  8]\n",
            " [18 32]], shape=(2, 2), dtype=int32)\n",
            "tf.Tensor(\n",
            "[[2. 2.]\n",
            " [2. 2.]], shape=(2, 2), dtype=float64)\n",
            "tf.Tensor(\n",
            "[[1 2]\n",
            " [3 4]], shape=(2, 2), dtype=int32)\n"
          ]
        }
      ]
    },
    {
      "cell_type": "code",
      "source": [
        "# transpose of the matrix\n",
        "print(tf.transpose(matrix))\n",
        "# dot product of matrices\n",
        "print(\"dot product of matrices is : \"+\n",
        "str(tf.tensordot(matrix, matrix,axes= 1)))"
      ],
      "metadata": {
        "colab": {
          "base_uri": "https://localhost:8080/"
        },
        "id": "sTxeeDUH1dqs",
        "outputId": "f92c123a-f1f0-4efa-e3a8-58042f73d13a"
      },
      "execution_count": 6,
      "outputs": [
        {
          "output_type": "stream",
          "name": "stdout",
          "text": [
            "tf.Tensor(\n",
            "[[1 3]\n",
            " [2 4]], shape=(2, 2), dtype=int32)\n",
            "dot product of matrices is : tf.Tensor(\n",
            "[[ 7 10]\n",
            " [15 22]], shape=(2, 2), dtype=int32)\n"
          ]
        }
      ]
    }
  ]
}